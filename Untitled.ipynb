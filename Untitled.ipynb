{
 "cells": [
  {
   "cell_type": "code",
   "execution_count": 1,
   "metadata": {},
   "outputs": [
    {
     "name": "stdout",
     "output_type": "stream",
     "text": [
      "/Users/kakaogames\n"
     ]
    }
   ],
   "source": [
    "cd"
   ]
  },
  {
   "cell_type": "code",
   "execution_count": 2,
   "metadata": {},
   "outputs": [
    {
     "name": "stdout",
     "output_type": "stream",
     "text": [
      "\u001b[30m\u001b[43mAdlm\u001b[m\u001b[m/\r\n",
      "\u001b[34mApplications\u001b[m\u001b[m/\r\n",
      "\u001b[34mDesktop\u001b[m\u001b[m/\r\n",
      "\u001b[34mDocuments\u001b[m\u001b[m/\r\n",
      "\u001b[34mDownloads\u001b[m\u001b[m/\r\n",
      "\u001b[34mLibrary\u001b[m\u001b[m/\r\n",
      "\u001b[34mMovies\u001b[m\u001b[m/\r\n",
      "\u001b[34mMusic\u001b[m\u001b[m/\r\n",
      "\u001b[34mNewProject\u001b[m\u001b[m/\r\n",
      "\u001b[34mNewProject_1\u001b[m\u001b[m/\r\n",
      "\u001b[34mPictures\u001b[m\u001b[m/\r\n",
      "\u001b[34mPublic\u001b[m\u001b[m/\r\n",
      "\u001b[34mVirtual Machines.localized\u001b[m\u001b[m/\r\n",
      "\u001b[34mVirtualBox VMs\u001b[m\u001b[m/\r\n",
      "\u001b[34mdjango_bookmark\u001b[m\u001b[m/\r\n",
      "hysShell.sh\r\n",
      "\u001b[34mmyApp\u001b[m\u001b[m/\r\n",
      "\u001b[34mxgen\u001b[m\u001b[m/\r\n",
      "자바스크립트에서의 프로토타입 과 상속 조사_kevin.pptx\r\n"
     ]
    }
   ],
   "source": [
    "ls"
   ]
  },
  {
   "cell_type": "code",
   "execution_count": 3,
   "metadata": {},
   "outputs": [
    {
     "name": "stdout",
     "output_type": "stream",
     "text": [
      "/Users/kakaogames/Desktop\n"
     ]
    }
   ],
   "source": [
    "cd Desktop"
   ]
  },
  {
   "cell_type": "code",
   "execution_count": 4,
   "metadata": {},
   "outputs": [
    {
     "name": "stdout",
     "output_type": "stream",
     "text": [
      "1600x1000bb.jpg\r\n",
      "CocosCreator _ lala.htm\r\n",
      "\u001b[34mCocosCreator _ lala_files\u001b[m\u001b[m/\r\n",
      "\u001b[30m\u001b[43mGB, H스퀘어 네트워크 연결 가이드(모바일, PC)\u001b[m\u001b[m/\r\n",
      "Lenna.png\r\n",
      "Lobby.fire 복사본\r\n",
      "Lobby.fire.meta 복사본\r\n",
      "Test.js\r\n",
      "\u001b[34mUnity\u001b[m\u001b[m/\r\n",
      "[Lala]UXUI 기획서.pptx\r\n",
      "[Lala]소셜 기획.pptx\r\n",
      "box_small.png\r\n",
      "box_tall.png\r\n",
      "\u001b[34mch2\u001b[m\u001b[m/\r\n",
      "\u001b[34mch3\u001b[m\u001b[m/\r\n",
      "\u001b[34mcloc-master\u001b[m\u001b[m/\r\n",
      "\u001b[34mdemo-camera-master\u001b[m\u001b[m/\r\n",
      "\u001b[34mfirstDjango\u001b[m\u001b[m/\r\n",
      "jhfkjh.png\r\n",
      "\u001b[34mlady_dev\u001b[m\u001b[m/\r\n",
      "\u001b[34mlady_dev 복사본\u001b[m\u001b[m/\r\n",
      "\u001b[34mlala\u001b[m\u001b[m/\r\n",
      "\u001b[34mnewSite\u001b[m\u001b[m/\r\n",
      "\u001b[34mosos\u001b[m\u001b[m/\r\n",
      "\u001b[34mpy\u001b[m\u001b[m/\r\n",
      "\u001b[34mrender\u001b[m\u001b[m/\r\n",
      "render.zip\r\n",
      "test.txt\r\n",
      "\u001b[34mtest_1105\u001b[m\u001b[m/\r\n",
      "test_1105.zip\r\n",
      "trigger_time.png\r\n",
      "vi_1.jpeg\r\n",
      "vi_2.jpeg\r\n",
      "vidoo_1.png\r\n",
      "vidoo_2.png\r\n",
      "vidoolgi_1.jpeg\r\n",
      "\u001b[34mvue_test\u001b[m\u001b[m/\r\n",
      "과제1 나 자신을 이해하기_20122011_한예성.docx\r\n",
      "라라 2.pptx\r\n",
      "라라 게임 플로우 및 오브젝트 기획.pptx\r\n",
      "라라 리소스 기획.jpeg\r\n",
      "라라.pptx\r\n",
      "\u001b[34m무제 폴더\u001b[m\u001b[m/\r\n",
      "\u001b[34m무제 폴더 2\u001b[m\u001b[m/\r\n",
      "\u001b[34m무제 폴더 3\u001b[m\u001b[m/\r\n",
      "스크린샷 2018-10-18 오후 1.15.36.png\r\n",
      "스크린샷 2018-10-20 오후 12.21.11.png\r\n",
      "스크린샷 2018-10-20 오후 12.21.36.png\r\n",
      "스크린샷 2018-10-27 오후 11.45.36.png\r\n",
      "스크린샷 2018-10-29 오후 1.03.16.png\r\n",
      "스크린샷 2018-10-29 오후 1.04.15.png\r\n",
      "스크린샷 2018-11-19 오후 10.03.19.png\r\n",
      "스크린샷 2018-11-19 오후 10.03.39.png\r\n",
      "스크린샷 2018-11-19 오후 9.44.22.png\r\n",
      "스크린샷 2018-11-19 오후 9.45.31.png\r\n",
      "스크린샷 2018-11-19 오후 9.45.45.png\r\n",
      "스크린샷 2018-11-20 오전 2.37.24.png\r\n",
      "스크린샷 2018-11-21 오전 11.52.25.png\r\n",
      "\u001b[30m\u001b[43m알파돔타워 무선 네트워크 연결 가이드\u001b[m\u001b[m/\r\n",
      "이미지 2.jpeg\r\n",
      "이미지 3.jpeg\r\n",
      "이미지 4.jpeg\r\n",
      "이미지 5.jpeg\r\n",
      "이미지 6.jpeg\r\n",
      "이미지.jpeg\r\n",
      "자바스크립트에서의 프로토타입 과 상속 조사_kevin.pptx\r\n",
      "프레젠테이션1.pptx\r\n",
      "프로토타입 상속_kevin.pptx\r\n",
      "프로토타입과 클래스 상속의 방법들.pptx\r\n"
     ]
    }
   ],
   "source": [
    "ls"
   ]
  },
  {
   "cell_type": "code",
   "execution_count": 5,
   "metadata": {},
   "outputs": [
    {
     "name": "stdout",
     "output_type": "stream",
     "text": [
      "/Users/kakaogames/Desktop/newSite\n"
     ]
    }
   ],
   "source": [
    "cd newSite/"
   ]
  },
  {
   "cell_type": "code",
   "execution_count": 6,
   "metadata": {},
   "outputs": [
    {
     "name": "stdout",
     "output_type": "stream",
     "text": [
      "README.md       db.sqlite3      \u001b[34mnewSite\u001b[m\u001b[m/        \u001b[34mvenv\u001b[m\u001b[m/\r\n",
      "Untitled.ipynb  \u001b[31mmanage.py\u001b[m\u001b[m*      \u001b[34mpolls\u001b[m\u001b[m/\r\n"
     ]
    }
   ],
   "source": [
    "ls"
   ]
  },
  {
   "cell_type": "code",
   "execution_count": 7,
   "metadata": {},
   "outputs": [
    {
     "ename": "ModuleNotFoundError",
     "evalue": "No module named 'polls.medels'",
     "traceback": [
      "\u001b[0;31m---------------------------------------------------------------------------\u001b[0m",
      "\u001b[0;31mModuleNotFoundError\u001b[0m                       Traceback (most recent call last)",
      "\u001b[0;32m<ipython-input-7-4a5def3683b2>\u001b[0m in \u001b[0;36m<module>\u001b[0;34m\u001b[0m\n\u001b[0;32m----> 1\u001b[0;31m \u001b[0;32mfrom\u001b[0m \u001b[0mpolls\u001b[0m\u001b[0;34m.\u001b[0m\u001b[0mmedels\u001b[0m \u001b[0;32mimport\u001b[0m \u001b[0mQuestion\u001b[0m\u001b[0;34m\u001b[0m\u001b[0;34m\u001b[0m\u001b[0m\n\u001b[0m",
      "\u001b[0;31mModuleNotFoundError\u001b[0m: No module named 'polls.medels'"
     ],
     "output_type": "error"
    }
   ],
   "source": [
    "from polls.medels import Question"
   ]
  },
  {
   "cell_type": "code",
   "execution_count": null,
   "metadata": {},
   "outputs": [],
   "source": []
  }
 ],
 "metadata": {
  "kernelspec": {
   "display_name": "Django Shell-Plus",
   "language": "python",
   "name": "django_extensions"
  },
  "language_info": {
   "codemirror_mode": {
    "name": "ipython",
    "version": 3
   },
   "file_extension": ".py",
   "mimetype": "text/x-python",
   "name": "python",
   "nbconvert_exporter": "python",
   "pygments_lexer": "ipython3",
   "version": "3.7.1"
  }
 },
 "nbformat": 4,
 "nbformat_minor": 2
}
